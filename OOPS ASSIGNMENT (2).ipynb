{
 "cells": [
  {
   "cell_type": "markdown",
   "id": "64092a4d-0484-4286-9b02-84502b89be8d",
   "metadata": {},
   "source": [
    "Q1, Create a vehicle class with an init method having instance variables as name_of_vehicle, max_speed\n",
    "and average_of_vehicle."
   ]
  },
  {
   "cell_type": "code",
   "execution_count": 12,
   "id": "2c48e00e-283f-4599-a951-b519368e2f1b",
   "metadata": {},
   "outputs": [],
   "source": [
    "class vehicle:\n",
    "    def __init__(self,name_of_vehicle,max_speed, average_of_vehicle):\n",
    "        self.name_of_vehicle=name_of_vehicle\n",
    "        self.max_speed=max_speed\n",
    "        self.average_of_vehicle=average_of_vehicle\n",
    "        \n",
    "    def  return_info(self):\n",
    "        return self.name_of_vehicle,self.max_speed,self.average_of_vehicle\n",
    "    \n",
    "    \n",
    "    "
   ]
  },
  {
   "cell_type": "code",
   "execution_count": 13,
   "id": "25619834-3a6f-481e-a1da-f83fe385c1c7",
   "metadata": {},
   "outputs": [],
   "source": [
    "v=vehicle(\"suzuki\",34,3)"
   ]
  },
  {
   "cell_type": "code",
   "execution_count": 14,
   "id": "4bdd6c14-8afe-4491-8b1c-4a95c35e7253",
   "metadata": {},
   "outputs": [
    {
     "data": {
      "text/plain": [
       "('suzuki', 34, 3)"
      ]
     },
     "execution_count": 14,
     "metadata": {},
     "output_type": "execute_result"
    }
   ],
   "source": [
    "v.return_info()"
   ]
  },
  {
   "cell_type": "markdown",
   "id": "55336e5e-d667-48f7-9d37-2fa78c3fa97a",
   "metadata": {},
   "source": [
    "Q2. Create a child class car from the vehicle class created in Que 1, which will inherit the vehicle class.\n",
    "Create a method named seating_capacity which takes capacity as an argument and returns the name of\n",
    "the vehicle and its seating capacity."
   ]
  },
  {
   "cell_type": "code",
   "execution_count": 18,
   "id": "f0c0581a-1cd3-4997-966c-c6f6e4f1b0ff",
   "metadata": {},
   "outputs": [],
   "source": [
    "class car(vehicle):\n",
    "    def seating_capacity(self,seating_capacity):\n",
    "        self.seating_capacity=seating_capacity\n",
    "        \n",
    "    def call(self):\n",
    "        return self.seating_capacity\n",
    "    "
   ]
  },
  {
   "cell_type": "code",
   "execution_count": 22,
   "id": "1c5fb6e2-3075-4117-a916-5d0824a4b805",
   "metadata": {},
   "outputs": [],
   "source": [
    "c=car(\"suzuki\",34,3)"
   ]
  },
  {
   "cell_type": "code",
   "execution_count": 23,
   "id": "f3a0cd68-d1c3-43d7-af5f-c931f1082eac",
   "metadata": {},
   "outputs": [],
   "source": [
    "c.seating_capacity(4)"
   ]
  },
  {
   "cell_type": "code",
   "execution_count": 24,
   "id": "4d057c58-a7a6-492d-8732-3cefccad8d2e",
   "metadata": {},
   "outputs": [
    {
     "data": {
      "text/plain": [
       "4"
      ]
     },
     "execution_count": 24,
     "metadata": {},
     "output_type": "execute_result"
    }
   ],
   "source": [
    "c.call()"
   ]
  },
  {
   "cell_type": "markdown",
   "id": "2f8745a8-d7f2-49cf-a75b-5a2d0487092a",
   "metadata": {},
   "source": [
    "Q3. What is multiple inheritance? Write a python code to demonstrate multiple inheritance."
   ]
  },
  {
   "cell_type": "markdown",
   "id": "44c727b1-0668-47bc-9c0a-17bfb9ef1792",
   "metadata": {},
   "source": [
    "if a child class inherits from more than one class then it is called multiple inheritance\n"
   ]
  },
  {
   "cell_type": "code",
   "execution_count": 11,
   "id": "38a234ae-7628-4a59-b7d0-7dd8e90ad57d",
   "metadata": {},
   "outputs": [],
   "source": [
    "class name():\n",
    "    def na_me(self):\n",
    "        n=str(input(\"enter your name\"))\n",
    "        return n"
   ]
  },
  {
   "cell_type": "code",
   "execution_count": 12,
   "id": "66968e50-3dc0-4684-b33f-744c0d3ceb63",
   "metadata": {},
   "outputs": [],
   "source": [
    "class phone_no():\n",
    "    def pn(self):\n",
    "        n=int(input(\"enter your phone number\"))\n",
    "        return n"
   ]
  },
  {
   "cell_type": "code",
   "execution_count": 13,
   "id": "6d3ac853-1b29-4e34-bdcd-7e2d94665d5b",
   "metadata": {},
   "outputs": [],
   "source": [
    "class collg(name,phone_no):\n",
    "    def c_name(self):\n",
    "        print(\"Gl bajaj\")"
   ]
  },
  {
   "cell_type": "code",
   "execution_count": 14,
   "id": "0a13132d-cf0e-4d06-8e12-69a28d6dd3d2",
   "metadata": {},
   "outputs": [],
   "source": [
    "c=collg()"
   ]
  },
  {
   "cell_type": "code",
   "execution_count": 15,
   "id": "2a41bcff-0ea6-4dee-b4a9-24ac556918d4",
   "metadata": {},
   "outputs": [
    {
     "name": "stdin",
     "output_type": "stream",
     "text": [
      "enter your phone number 8750719692\n"
     ]
    },
    {
     "data": {
      "text/plain": [
       "8750719692"
      ]
     },
     "execution_count": 15,
     "metadata": {},
     "output_type": "execute_result"
    }
   ],
   "source": [
    "c.pn()"
   ]
  },
  {
   "cell_type": "code",
   "execution_count": 16,
   "id": "c7756c3b-5e22-41c9-aa40-70797990d550",
   "metadata": {},
   "outputs": [
    {
     "name": "stdin",
     "output_type": "stream",
     "text": [
      "enter your name simran\n"
     ]
    },
    {
     "data": {
      "text/plain": [
       "'simran'"
      ]
     },
     "execution_count": 16,
     "metadata": {},
     "output_type": "execute_result"
    }
   ],
   "source": [
    "c.na_me()"
   ]
  },
  {
   "cell_type": "code",
   "execution_count": 17,
   "id": "30505907-df4c-48f0-92bf-3b10311dab80",
   "metadata": {},
   "outputs": [
    {
     "name": "stdout",
     "output_type": "stream",
     "text": [
      "Gl bajaj\n"
     ]
    }
   ],
   "source": [
    "c.c_name()"
   ]
  },
  {
   "cell_type": "markdown",
   "id": "ffab647c-9be7-400d-a66e-456b1b72ea25",
   "metadata": {},
   "source": [
    "Q4. What are getter and setter in python? Create a class and create a getter and a setter method in this\n",
    "class."
   ]
  },
  {
   "cell_type": "markdown",
   "id": "a6a4f118-ad06-423e-b32e-29abfd3695c7",
   "metadata": {},
   "source": [
    "SETTERS=These are the methods used in OOPS feature which helps to set the value to private attributes in a class.\n",
    "GETTERS=These are the methods used in Object-Oriented Programming (OOPS) which helps to access the private attributes from a class."
   ]
  },
  {
   "cell_type": "code",
   "execution_count": 51,
   "id": "2b4c261e-b724-4937-afbd-b3f531bfa79d",
   "metadata": {},
   "outputs": [],
   "source": [
    "class school():\n",
    "    \n",
    "    def __init__(self,school_name,student_name):\n",
    "        self.__school_name=school_name\n",
    "        self.__tudent_name=student_name\n",
    "        \n",
    "    def set_student_name(self,student_name):\n",
    "        pass\n",
    "        self.__student_name=student_name\n",
    "        \n",
    "    def get_student_name(self):\n",
    "        return self.__student_name\n",
    "        \n",
    "    "
   ]
  },
  {
   "cell_type": "code",
   "execution_count": 52,
   "id": "af0f35f4-24cc-41c7-9234-7a69af238b8b",
   "metadata": {},
   "outputs": [],
   "source": [
    "s=school(\"fd\",\"dt\")\n"
   ]
  },
  {
   "cell_type": "code",
   "execution_count": 53,
   "id": "0aed5ecd-87b4-4fdf-a4b0-a1ee656d8dc9",
   "metadata": {},
   "outputs": [],
   "source": [
    "s.set_student_name(\"simran\")"
   ]
  },
  {
   "cell_type": "code",
   "execution_count": 54,
   "id": "594fe25f-923e-435c-81c0-38adb141fcf5",
   "metadata": {},
   "outputs": [
    {
     "data": {
      "text/plain": [
       "'simran'"
      ]
     },
     "execution_count": 54,
     "metadata": {},
     "output_type": "execute_result"
    }
   ],
   "source": [
    "s.get_student_name()"
   ]
  },
  {
   "cell_type": "markdown",
   "id": "cd9afdbc-c20c-432c-809f-783f67ed5440",
   "metadata": {},
   "source": [
    "Q5.What is method overriding in python? Write a python code to demonstrate method overriding."
   ]
  },
  {
   "cell_type": "markdown",
   "id": "9023b5b5-074b-47b2-bc90-93e88bcc5927",
   "metadata": {},
   "source": [
    "Method overriding is an ability of any object-oriented programming language that allows a subclass or child class to provide a specific implementation of a method that is already provided by one of its super-classes or parent classes"
   ]
  },
  {
   "cell_type": "code",
   "execution_count": 79,
   "id": "c4bd6c06-bd2e-402b-8f6a-c450940f6b60",
   "metadata": {},
   "outputs": [],
   "source": [
    "class f_name:\n",
    "    def __init__(self,fa_name):\n",
    "        self.fa_name=fa_name\n",
    "        \n",
    "    def show(self):\n",
    "        return self.fa_name\n",
    "    \n",
    "    "
   ]
  },
  {
   "cell_type": "code",
   "execution_count": 80,
   "id": "8e4a95fb-81e2-4c2c-a8d5-74cd5fd878ce",
   "metadata": {},
   "outputs": [],
   "source": [
    "class s_name(f_name):\n",
    "    def __init__(self,s_name):\n",
    "        self.s_name=s_name\n",
    "        \n",
    "        \n",
    "    def show(self):\n",
    "        return self.s_name\n",
    "    "
   ]
  },
  {
   "cell_type": "code",
   "execution_count": 82,
   "id": "49c3113e-15d2-401e-9b42-53f118fb4d9d",
   "metadata": {},
   "outputs": [],
   "source": [
    "f=f_name(\"Mr.Bhushan singh\")"
   ]
  },
  {
   "cell_type": "code",
   "execution_count": 81,
   "id": "648c1deb-ba7c-4361-bb4e-fff9d4fc2a5d",
   "metadata": {},
   "outputs": [],
   "source": [
    "s=s_name(\"Simran singh\")"
   ]
  },
  {
   "cell_type": "code",
   "execution_count": 86,
   "id": "43eb0e3f-2a57-4304-a164-65622af1ee2d",
   "metadata": {},
   "outputs": [
    {
     "data": {
      "text/plain": [
       "'Mr.Bhushan singh'"
      ]
     },
     "execution_count": 86,
     "metadata": {},
     "output_type": "execute_result"
    }
   ],
   "source": [
    "f.show()"
   ]
  },
  {
   "cell_type": "code",
   "execution_count": 85,
   "id": "1f2724f7-7434-498e-88bc-cdbc20b849ba",
   "metadata": {},
   "outputs": [
    {
     "data": {
      "text/plain": [
       "'Simran singh'"
      ]
     },
     "execution_count": 85,
     "metadata": {},
     "output_type": "execute_result"
    }
   ],
   "source": [
    "s.show()"
   ]
  },
  {
   "cell_type": "code",
   "execution_count": null,
   "id": "e9de2072-b1bd-4df6-bdc3-7dad1f4d3b3a",
   "metadata": {},
   "outputs": [],
   "source": []
  },
  {
   "cell_type": "code",
   "execution_count": null,
   "id": "56a72a74-ed2a-461f-83f2-fd7deb066775",
   "metadata": {},
   "outputs": [],
   "source": []
  }
 ],
 "metadata": {
  "kernelspec": {
   "display_name": "Python 3 (ipykernel)",
   "language": "python",
   "name": "python3"
  },
  "language_info": {
   "codemirror_mode": {
    "name": "ipython",
    "version": 3
   },
   "file_extension": ".py",
   "mimetype": "text/x-python",
   "name": "python",
   "nbconvert_exporter": "python",
   "pygments_lexer": "ipython3",
   "version": "3.10.8"
  }
 },
 "nbformat": 4,
 "nbformat_minor": 5
}
